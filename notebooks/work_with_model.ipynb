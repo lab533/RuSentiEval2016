{
 "cells": [
  {
   "cell_type": "code",
   "execution_count": null,
   "metadata": {
    "collapsed": false
   },
   "outputs": [],
   "source": [
    "import os\n",
    "import sys\n",
    "import numpy as np\n",
    "import pickle\n",
    "from sklearn.metrics import f1_score\n",
    "from keras.models import model_from_json \n",
    "\n",
    "src = os.path.join(os.getcwd(), os.pardir, 'src')\n",
    "sys.path.append(src)\n",
    "\n",
    "from features import feature_proc\n",
    "from model import train_model\n"
   ]
  },
  {
   "cell_type": "code",
   "execution_count": null,
   "metadata": {
    "collapsed": true
   },
   "outputs": [],
   "source": [
    "dataset_path = '../data/processed/SentiRuEval2016.pickle'\n",
    "with open(dataset_path, 'rb') as bin_data:\n",
    "    X, y, labels, words_num = pickle.load(bin_data)     \n",
    "    \n",
    "train_data = set([\"bank\", \"ttk\"])\n",
    "test_data = set([\"bank\"])\n",
    "selected = [feature_proc.get_sample_case(label, train_data, test_data) for label in labels]\n",
    "X_train, X_test, y_train, y_test = feature_proc.split_data(X, y, selected)"
   ]
  },
  {
   "cell_type": "code",
   "execution_count": null,
   "metadata": {
    "collapsed": true
   },
   "outputs": [],
   "source": [
    "path_to_weights = \"../models/common_bank_news_vec22_weights.h5\"\n",
    "path_to_arch = \"../models/architecture.json\"\n",
    "\n",
    "model = model_from_json(open(path_to_arch, 'r').read())\n",
    "model.compile(loss='categorical_crossentropy',\n",
    "              optimizer='adagrad', metrics=['accuracy'])\n",
    "\n",
    "model.load_weights(path_to_weights)"
   ]
  },
  {
   "cell_type": "code",
   "execution_count": null,
   "metadata": {
    "collapsed": false
   },
   "outputs": [],
   "source": [
    "y_pred = model.predict(X_test, batch_size=1)"
   ]
  },
  {
   "cell_type": "code",
   "execution_count": null,
   "metadata": {
    "collapsed": false
   },
   "outputs": [],
   "source": [
    "f_macro = f1_score(y_test.argmax(axis=1), y_pred.argmax(axis=1), labels=[1,2] , average='macro')\n",
    "f_micro = f1_score(y_test.argmax(axis=1), y_pred.argmax(axis=1), labels=[1,2] , average='micro')\n",
    "print(\"Result scores for prediction negative and positive classes\")\n",
    "print(\"f_macro: {:.4f}\".format(f_macro))\n",
    "print(\"f_micro: {:.4f}\".format(f_micro))"
   ]
  },
  {
   "cell_type": "code",
   "execution_count": null,
   "metadata": {
    "collapsed": false
   },
   "outputs": [],
   "source": []
  },
  {
   "cell_type": "code",
   "execution_count": null,
   "metadata": {
    "collapsed": true
   },
   "outputs": [],
   "source": []
  }
 ],
 "metadata": {
  "kernelspec": {
   "display_name": "Python 3",
   "language": "python",
   "name": "python3"
  },
  "language_info": {
   "codemirror_mode": {
    "name": "ipython",
    "version": 3
   },
   "file_extension": ".py",
   "mimetype": "text/x-python",
   "name": "python",
   "nbconvert_exporter": "python",
   "pygments_lexer": "ipython3",
   "version": "3.4.3+"
  }
 },
 "nbformat": 4,
 "nbformat_minor": 0
}
