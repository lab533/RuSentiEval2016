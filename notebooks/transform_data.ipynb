{
 "cells": [
  {
   "cell_type": "markdown",
   "metadata": {},
   "source": [
    " Example of preprocessing **interim** data (**interim** - texts after syntax parse)"
   ]
  },
  {
   "cell_type": "code",
   "execution_count": 1,
   "metadata": {
    "collapsed": true
   },
   "outputs": [],
   "source": [
    "import os\n",
    "import sys\n",
    "import numpy as np\n",
    "import pickle\n",
    "    \n",
    "src = os.path.join(os.getcwd(), os.pardir, 'src')\n",
    "sys.path.append(src)\n",
    "\n",
    "from features import feature_proc"
   ]
  },
  {
   "cell_type": "code",
   "execution_count": 2,
   "metadata": {
    "collapsed": false
   },
   "outputs": [],
   "source": [
    "data_source = '../data/interim/'\n",
    "feature_dist_path = '../data/processed/SentiRuEval2016.pickle'\n",
    "\n",
    "# predefined patterns for siblings\n",
    "sibling_patterns = [np.array([0,1]), \n",
    "            np.array([0,1,2]),\n",
    "            np.array([0,2,3]),\n",
    "            np.array([0,1,2,3]),\n",
    "            np.array([0,2,3,4])]"
   ]
  },
  {
   "cell_type": "code",
   "execution_count": 4,
   "metadata": {
    "collapsed": false
   },
   "outputs": [
    {
     "name": "stdout",
     "output_type": "stream",
     "text": [
      "Processed data serialized\n"
     ]
    }
   ],
   "source": [
    "data, labels, token2id = feature_proc.load_interim_data(data_source)\n",
    "transformed_data = (feature_proc.sentences_to_ids(feature, token2id) for feature in data)\n",
    "transformed_data = feature_proc.set_padding(transformed_data, [50, 250, 250])\n",
    "X = [transformed_data[1]] + feature_proc.get_patterns(transformed_data[2], sibling_patterns)\n",
    "y = feature_proc.nums_to_one_hot(np.array([label[2] for label in labels]), 3)\n",
    "\n",
    "with open(feature_dist_path, 'wb') as dist:\n",
    "    pickle.dump((X, y, labels, len(token2id)), dist)\n",
    "    print(\"Processed data serialized\")"
   ]
  },
  {
   "cell_type": "code",
   "execution_count": null,
   "metadata": {
    "collapsed": true
   },
   "outputs": [],
   "source": []
  }
 ],
 "metadata": {
  "kernelspec": {
   "display_name": "Python 3",
   "language": "python",
   "name": "python3"
  },
  "language_info": {
   "codemirror_mode": {
    "name": "ipython",
    "version": 3
   },
   "file_extension": ".py",
   "mimetype": "text/x-python",
   "name": "python",
   "nbconvert_exporter": "python",
   "pygments_lexer": "ipython3",
   "version": "3.4.3+"
  }
 },
 "nbformat": 4,
 "nbformat_minor": 0
}
