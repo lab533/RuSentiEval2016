{
 "cells": [
  {
   "cell_type": "markdown",
   "metadata": {},
   "source": [
    "Training model using processed data"
   ]
  },
  {
   "cell_type": "code",
   "execution_count": 1,
   "metadata": {
    "collapsed": false
   },
   "outputs": [
    {
     "name": "stderr",
     "output_type": "stream",
     "text": [
      "Using Theano backend.\n",
      "Using gpu device 0: GeForce GTX 690 (CNMeM is disabled, cuDNN not available)\n"
     ]
    }
   ],
   "source": [
    "import os\n",
    "import sys\n",
    "import numpy as np\n",
    "import pickle\n",
    "from sklearn.metrics import f1_score\n",
    "    \n",
    "src = os.path.join(os.getcwd(), os.pardir, 'src')\n",
    "sys.path.append(src)\n",
    "\n",
    "from features import feature_proc\n",
    "from model import train_model"
   ]
  },
  {
   "cell_type": "code",
   "execution_count": 2,
   "metadata": {
    "collapsed": false
   },
   "outputs": [],
   "source": [
    "dataset_path = '../data/processed/SentiRuEval2016.pickle'\n",
    "with open(dataset_path, 'rb') as bin_data:\n",
    "    X, y, labels, words_num = pickle.load(bin_data)    "
   ]
  },
  {
   "cell_type": "code",
   "execution_count": 3,
   "metadata": {
    "collapsed": false
   },
   "outputs": [],
   "source": [
    "train_data = set([\"bank\", \"ttk\"])\n",
    "test_data = set([\"bank\"])\n",
    "selected = [feature_proc.get_sample_case(label, train_data, test_data) for label in labels]\n",
    "X_train, X_test, y_train, y_test = feature_proc.split_data(X, y, selected)"
   ]
  },
  {
   "cell_type": "code",
   "execution_count": 4,
   "metadata": {
    "collapsed": false
   },
   "outputs": [],
   "source": [
    "model = train_model.build_model(words_num)"
   ]
  },
  {
   "cell_type": "code",
   "execution_count": 5,
   "metadata": {
    "collapsed": false
   },
   "outputs": [
    {
     "name": "stdout",
     "output_type": "stream",
     "text": [
      "Train on 18989 samples, validate on 3395 samples\n",
      "Epoch 1/2\n",
      "18989/18989 [==============================] - 75s - loss: 0.5376 - acc: 0.7835 - val_loss: 0.6010 - val_acc: 0.7429\n",
      "Epoch 2/2\n",
      "18989/18989 [==============================] - 75s - loss: 0.2807 - acc: 0.8983 - val_loss: 0.7133 - val_acc: 0.7320\n"
     ]
    }
   ],
   "source": [
    "batch_size = 50\n",
    "nb_epoch = 2\n",
    "model.fit(X_train, [y_train],nb_epoch=nb_epoch, batch_size=batch_size,  validation_data=(X_test, [y_test]))\n",
    "y_pred = model.predict(X_test, batch_size=1)"
   ]
  },
  {
   "cell_type": "code",
   "execution_count": 6,
   "metadata": {
    "collapsed": false
   },
   "outputs": [
    {
     "name": "stdout",
     "output_type": "stream",
     "text": [
      "Result scores for prediction negative and positive classes\n",
      "f_macro: 0.5127\n",
      "f_micro: 0.5528\n"
     ]
    }
   ],
   "source": [
    "# labels 1, 2 correspond to positive and negative samples\n",
    "f_macro = f1_score(y_test.argmax(axis=1), y_pred.argmax(axis=1), labels=[1,2] , average='macro')\n",
    "f_micro = f1_score(y_test.argmax(axis=1), y_pred.argmax(axis=1), labels=[1,2] , average='micro')\n",
    "print(\"Result scores for prediction negative and positive classes\")\n",
    "print(\"f_macro: {:.4f}\".format(f_macro))\n",
    "print(\"f_micro: {:.4f}\".format(f_micro))"
   ]
  },
  {
   "cell_type": "code",
   "execution_count": 8,
   "metadata": {
    "collapsed": false
   },
   "outputs": [
    {
     "data": {
      "text/plain": [
       "7450"
      ]
     },
     "execution_count": 8,
     "metadata": {},
     "output_type": "execute_result"
    }
   ],
   "source": [
    "# save weights and architecture trained model\n",
    "\n",
    "path_to_weights = \"../models/example_weights.h5\"\n",
    "path_to_arch = \"../models/example_arch.json\"\n",
    "\n",
    "model.save_weights(format(path_to_weights))\n",
    "json_string = model.to_json()\n",
    "open(path_to_arch, 'w').write(json_string)"
   ]
  },
  {
   "cell_type": "code",
   "execution_count": null,
   "metadata": {
    "collapsed": false
   },
   "outputs": [],
   "source": []
  },
  {
   "cell_type": "code",
   "execution_count": 32,
   "metadata": {
    "collapsed": true
   },
   "outputs": [],
   "source": []
  },
  {
   "cell_type": "code",
   "execution_count": null,
   "metadata": {
    "collapsed": true
   },
   "outputs": [],
   "source": []
  }
 ],
 "metadata": {
  "kernelspec": {
   "display_name": "Python 3",
   "language": "python",
   "name": "python3"
  },
  "language_info": {
   "codemirror_mode": {
    "name": "ipython",
    "version": 3
   },
   "file_extension": ".py",
   "mimetype": "text/x-python",
   "name": "python",
   "nbconvert_exporter": "python",
   "pygments_lexer": "ipython3",
   "version": "3.4.3+"
  }
 },
 "nbformat": 4,
 "nbformat_minor": 0
}
